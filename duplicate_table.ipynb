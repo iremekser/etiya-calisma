{
 "cells": [
  {
   "cell_type": "code",
   "execution_count": 110,
   "metadata": {},
   "outputs": [],
   "source": [
    "import psycopg2 as pg\n",
    "import pandas.io.sql as psql\n",
    "import pandas as pd\n",
    "import random"
   ]
  },
  {
   "cell_type": "code",
   "execution_count": 111,
   "metadata": {},
   "outputs": [],
   "source": [
    "connection = pg.connect(host=\"localhost\", port = 5432, database=\"db\", user=\"postgres\", password=\"iii1234!\")\n",
    "df = psql.read_sql(\"SELECT *FROM ogr\", connection)"
   ]
  },
  {
   "cell_type": "code",
   "execution_count": 112,
   "metadata": {},
   "outputs": [],
   "source": [
    "def insert_data_many(table_name, datas):\n",
    "    try:\n",
    "        cursor = connection.cursor()\n",
    "        cursor.executemany(f\"INSERT INTO {table_name}(name, surname, grade, department) VALUES (%s,%s,%s,%s)\", datas)\n",
    "        connection.commit()\n",
    "        count = cursor.rowcount\n",
    "        print(count, \"inserted succesfully\")\n",
    "    except (Exception, pg.Error) as error :\n",
    "        if(connection):\n",
    "            print(\"Failed to insert record into mobile table\", error)"
   ]
  },
  {
   "cell_type": "code",
   "execution_count": 113,
   "metadata": {},
   "outputs": [],
   "source": [
    "bolum_df = pd.read_excel(\"bolumler.xls\")\n",
    "bolum_df = bolum_df.drop_duplicates([\"Bölüm Adı\"])\n",
    "bolumler = list(bolum_df[\"Bölüm Adı\"])"
   ]
  },
  {
   "cell_type": "code",
   "execution_count": 114,
   "metadata": {},
   "outputs": [],
   "source": [
    "names_df = pd.read_csv(\"names.csv\")\n",
    "names = names_df[\"name\"]\n",
    "surnames = names_df[\"surname\"]"
   ]
  },
  {
   "cell_type": "code",
   "execution_count": 115,
   "metadata": {},
   "outputs": [
    {
     "name": "stdout",
     "output_type": "stream",
     "text": [
      "100 inserted succesfully\n"
     ]
    }
   ],
   "source": [
    "datas = []\n",
    "for i in range(100):\n",
    "    datas.append((random.choice(names), random.choice(surnames), random.choice([1,2,3,4]), random.choice(bolumler)))\n",
    "insert_data_many(\"ogr\",datas)"
   ]
  },
  {
   "cell_type": "code",
   "execution_count": 116,
   "metadata": {},
   "outputs": [],
   "source": [
    "df.to_csv(\"first_table.csv\", index=False)"
   ]
  },
  {
   "cell_type": "code",
   "execution_count": 117,
   "metadata": {},
   "outputs": [],
   "source": [
    "second_df = pd.read_csv(\"first_table.csv\")"
   ]
  },
  {
   "cell_type": "code",
   "execution_count": 118,
   "metadata": {},
   "outputs": [],
   "source": [
    "cursor = connection.cursor()"
   ]
  },
  {
   "cell_type": "code",
   "execution_count": 119,
   "metadata": {},
   "outputs": [],
   "source": [
    "table_name = \"duplicate_ogr\"\n",
    "create_table = \"create table \"+table_name+\" (_id serial primary key, name varchar(50) not null, surname varchar(70) not null, grade int not null, department varchar(255) not null);\""
   ]
  },
  {
   "cell_type": "code",
   "execution_count": 120,
   "metadata": {},
   "outputs": [],
   "source": [
    "cursor.execute(create_table)"
   ]
  },
  {
   "cell_type": "code",
   "execution_count": 121,
   "metadata": {},
   "outputs": [],
   "source": [
    "connection.commit()"
   ]
  },
  {
   "cell_type": "code",
   "execution_count": 122,
   "metadata": {},
   "outputs": [],
   "source": [
    "second_datas = []\n",
    "for index,row in second_df.iterrows():\n",
    "    second_datas.append(tuple(row)[1:])"
   ]
  },
  {
   "cell_type": "code",
   "execution_count": 123,
   "metadata": {
    "scrolled": true
   },
   "outputs": [
    {
     "name": "stdout",
     "output_type": "stream",
     "text": [
      "300 inserted succesfully\n"
     ]
    }
   ],
   "source": [
    "insert_data_many(\"duplicate_ogr\",second_datas)"
   ]
  }
 ],
 "metadata": {
  "kernelspec": {
   "display_name": "Python 3",
   "language": "python",
   "name": "python3"
  },
  "language_info": {
   "codemirror_mode": {
    "name": "ipython",
    "version": 3
   },
   "file_extension": ".py",
   "mimetype": "text/x-python",
   "name": "python",
   "nbconvert_exporter": "python",
   "pygments_lexer": "ipython3",
   "version": "3.8.3"
  }
 },
 "nbformat": 4,
 "nbformat_minor": 4
}
